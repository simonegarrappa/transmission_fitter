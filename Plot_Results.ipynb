{
 "cells": [
  {
   "cell_type": "code",
   "execution_count": 1,
   "metadata": {},
   "outputs": [],
   "source": [
    "import os\n",
    "from transmission_fitter.analysis_tools import LAST_ABSCAL_Analysis"
   ]
  },
  {
   "cell_type": "code",
   "execution_count": 2,
   "metadata": {},
   "outputs": [],
   "source": [
    "abscal_analysis = LAST_ABSCAL_Analysis(useHTM=False) #Create the analysis object\n",
    "res_folder = '/Users/astrosimo/Analysis/WIS/tmp_folder' #Folder where the results will be stored\n",
    "resfilename = os.path.join(res_folder,'TmpResults') #Name of the results file\n"
   ]
  },
  {
   "cell_type": "code",
   "execution_count": null,
   "metadata": {},
   "outputs": [
    {
     "name": "stdout",
     "output_type": "stream",
     "text": [
      "Found 24 catalog files\n",
      "Calibrating...\n"
     ]
    },
    {
     "data": {
      "application/vnd.jupyter.widget-view+json": {
       "model_id": "53a056a7635541e989f90e9ab84fcc9a",
       "version_major": 2,
       "version_minor": 0
      },
      "text/plain": [
       "0it [00:00, ?it/s]"
      ]
     },
     "metadata": {},
     "output_type": "display_data"
    },
    {
     "name": "stdout",
     "output_type": "stream",
     "text": [
      "Calibrating catalog number: 0 of 24\n",
      "Calibrating catalog: /Users/astrosimo/Analysis/WIS/transmission_fitter/transmission_fitter/data/Image_Test/LAST.01.10.04_20240311.194154.510_clear_923_010_001_001_sci_proc_Cat_1.fits\n",
      "Using band: LAST\n",
      "INFO: Query finished. [astroquery.utils.tap.core]\n",
      "Query time:  1.1850111484527588\n",
      "Matching time:  1.2752158641815186\n"
     ]
    },
    {
     "name": "stderr",
     "output_type": "stream",
     "text": []
    },
    {
     "name": "stdout",
     "output_type": "stream",
     "text": [
      "Calibration time:  14.962008953094482\n",
      "Number of calibrators (Gmag < 16):  244\n",
      "Reduced to Gmag < 15, number of calibrators:  127\n",
      "Spectra retrieved for catalog file: /Users/astrosimo/Analysis/WIS/transmission_fitter/transmission_fitter/data/Image_Test/LAST.01.10.04_20240311.194154.510_clear_923_010_001_001_sci_proc_Cat_1.fits\n",
      "ATM flag is: True\n",
      "Fit starts...\n",
      "[[Fit Statistics]]\n",
      "    # fitting method   = leastsq\n",
      "    # function evals   = 10\n",
      "    # data points      = 56\n",
      "    # variables        = 2\n",
      "    chi-square         = 53.6538294\n",
      "    reduced chi-square = 0.99358943\n",
      "    Akaike info crit   = 1.60326456\n",
      "    Bayesian info crit = 5.65396794\n",
      "[[Variables]]\n",
      "    norm:         0.505788 (fixed)\n",
      "    kx0:         -0.002187585 (fixed)\n",
      "    ky0:          0 (fixed)\n",
      "    kx:          -0.0113418 (fixed)\n",
      "    ky:           0.0154191 (fixed)\n",
      "    kx2:          0.004098869 (fixed)\n",
      "    kx3:         -0.002072295 (fixed)\n",
      "    ky2:         -6.714825e-05 (fixed)\n",
      "    ky3:         -0.0006123419 (fixed)\n",
      "    kx4:          0.001667013 (fixed)\n",
      "    ky4:         -0.001601097 (fixed)\n",
      "    kxy:          1.534213e-07 (fixed)\n",
      "    amplitude:    328.1936 (fixed)\n",
      "    center:       564.7673 (fixed)\n",
      "    sigma:        139.77 (fixed)\n",
      "    gamma:       -0.1517 (fixed)\n",
      "    l0:          -0.3 (fixed)\n",
      "    l1:           0.34 (fixed)\n",
      "    l2:          -1.89 (fixed)\n",
      "    l3:          -0.82 (fixed)\n",
      "    l4:          -3.73 (fixed)\n",
      "    l5:          -0.669 (fixed)\n",
      "    l6:          -2.06 (fixed)\n",
      "    l7:          -0.24 (fixed)\n",
      "    l8:          -0.6 (fixed)\n",
      "    pressure:     965 (fixed)\n",
      "    AOD:          0.08114427 +/- 0.00211413 (2.61%) (init = 0.084)\n",
      "    alpha:        0.6 (fixed)\n",
      "    ozone_col:    300 (fixed)\n",
      "    PW:           1.89350298 +/- 0.38121857 (20.13%) (init = 1.4)\n",
      "    temperature:  15.2 (fixed)\n",
      "    r0:           0 (fixed)\n",
      "    r1:           0 (fixed)\n",
      "    r2:           0 (fixed)\n",
      "    r3:           0 (fixed)\n",
      "    r4:           0 (fixed)\n",
      "[[Correlations]] (unreported correlations are < 0.100)\n",
      "    C(AOD, PW) = -0.9828\n",
      "Calibration complete!\n",
      "Calibrating catalog number: 1 of 24\n",
      "Calibrating catalog: /Users/astrosimo/Analysis/WIS/transmission_fitter/transmission_fitter/data/Image_Test/LAST.01.10.04_20240311.194154.510_clear_923_010_001_002_sci_proc_Cat_1.fits\n",
      "Using band: LAST\n",
      "INFO: Query finished. [astroquery.utils.tap.core]\n",
      "Query time:  1.076300859451294\n",
      "Matching time:  1.3251290321350098\n",
      "Error in catalog: /Users/astrosimo/Analysis/WIS/transmission_fitter/transmission_fitter/data/Image_Test/LAST.01.10.04_20240311.194154.510_clear_923_010_001_002_sci_proc_Cat_1.fits\n",
      "Calibrating catalog number: 2 of 24\n",
      "Calibrating catalog: /Users/astrosimo/Analysis/WIS/transmission_fitter/transmission_fitter/data/Image_Test/LAST.01.10.04_20240311.194154.510_clear_923_010_001_003_sci_proc_Cat_1.fits\n",
      "Using band: LAST\n",
      "INFO: Query finished. [astroquery.utils.tap.core]\n",
      "Query time:  1.101464033126831\n",
      "Matching time:  1.310305118560791\n"
     ]
    }
   ],
   "source": [
    "abscal_analysis.calibrate_example_catalogs(cattype='single',resfilename=resfilename)    #Calibrate the example catalogs from top panels of Fig. 7 of the paper"
   ]
  },
  {
   "cell_type": "code",
   "execution_count": null,
   "metadata": {},
   "outputs": [],
   "source": [
    "resfilename"
   ]
  },
  {
   "cell_type": "code",
   "execution_count": null,
   "metadata": {},
   "outputs": [],
   "source": [
    "\n",
    "resfile_diag =os.path.join(res_folder,'FullImage_diagnostic_Single.pdf')\n",
    "abscal_analysis.plot_residuals_diagnostic_fullimage(resfile_diag,figtitle='Single exposure (20s)')"
   ]
  }
 ],
 "metadata": {
  "kernelspec": {
   "display_name": "py3_Fermi",
   "language": "python",
   "name": "python3"
  },
  "language_info": {
   "codemirror_mode": {
    "name": "ipython",
    "version": 3
   },
   "file_extension": ".py",
   "mimetype": "text/x-python",
   "name": "python",
   "nbconvert_exporter": "python",
   "pygments_lexer": "ipython3",
   "version": "3.8.12"
  }
 },
 "nbformat": 4,
 "nbformat_minor": 2
}
