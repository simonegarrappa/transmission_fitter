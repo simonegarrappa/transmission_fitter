{
 "cells": [
  {
   "cell_type": "code",
   "execution_count": null,
   "metadata": {},
   "outputs": [],
   "source": [
    "import os\n",
    "import transmission_fitter\n",
    "from transmission_fitter.analysis_tools import LAST_ABSCAL_Analysis\n",
    "transmission_fitter.__file__"
   ]
  },
  {
   "cell_type": "code",
   "execution_count": 2,
   "metadata": {},
   "outputs": [],
   "source": [
    "abscal_analysis = LAST_ABSCAL_Analysis(useHTM=False) #Create the analysis object\n",
    "res_folder = '/Users/astrosimo/Analysis/WIS/tmp_folder' #Folder where the results will be stored\n",
    "resfilename = os.path.join(res_folder,'TmpResults') #Name of the results file\n"
   ]
  },
  {
   "cell_type": "code",
   "execution_count": null,
   "metadata": {},
   "outputs": [],
   "source": [
    "abscal_analysis.calibrate_example_catalogs(cattype='single',resfilename=resfilename)    #Calibrate the example catalogs from top panels of Fig. 7 of the paper"
   ]
  },
  {
   "cell_type": "code",
   "execution_count": null,
   "metadata": {},
   "outputs": [],
   "source": [
    "\n",
    "resfile_diag =os.path.join(res_folder,'FullImage_diagnostic_Single.pdf')\n",
    "abscal_analysis.plot_residuals_diagnostic_fullimage(resfile_diag,figtitle='Single exposure (20s)')"
   ]
  }
 ],
 "metadata": {
  "kernelspec": {
   "display_name": "py3_Fermi",
   "language": "python",
   "name": "python3"
  },
  "language_info": {
   "codemirror_mode": {
    "name": "ipython",
    "version": 3
   },
   "file_extension": ".py",
   "mimetype": "text/x-python",
   "name": "python",
   "nbconvert_exporter": "python",
   "pygments_lexer": "ipython3",
   "version": "3.8.12"
  }
 },
 "nbformat": 4,
 "nbformat_minor": 2
}
