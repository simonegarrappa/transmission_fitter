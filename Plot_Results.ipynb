{
 "cells": [
  {
   "cell_type": "code",
   "execution_count": 1,
   "metadata": {},
   "outputs": [],
   "source": [
    "from transmission_fitter.fitutils import AbsoluteCalibration\n",
    "from astroquery.gaia import Gaia\n",
    "from transmission_fitter.analysis_tools import LAST_ABSCAL_Analysis\n",
    "from astropy import units as u\n",
    "from astropy.coordinates import SkyCoord\n",
    "from transmission_fitter.lastcatutils import LastCatUtils\n",
    "from transmission_fitter.gaiaquery import GaiaQuery\n",
    "import glob\n",
    "Gaia.MAIN_GAIA_TABLE = \"gaiadr3.gaia_source\""
   ]
  },
  {
   "cell_type": "code",
   "execution_count": null,
   "metadata": {},
   "outputs": [],
   "source": [
    "import os\n",
    "current_dir = os.path.dirname()\n",
    "data_file_path = os.path.join(current_dir, 'data', 'file1.txt')\n",
    "\n",
    "print(data_file_path)\n",
    "# Use `data_file_path` as needed\n"
   ]
  },
  {
   "cell_type": "markdown",
   "metadata": {},
   "source": [
    "## Single exposure image"
   ]
  },
  {
   "cell_type": "code",
   "execution_count": null,
   "metadata": {},
   "outputs": [],
   "source": [
    "catfile_list = glob.glob('./Image_Test_OLD/*.fits')\n",
    "catfile_list.sort()\n",
    "print('Number of catalogs to be analyzed: ', len(catfile_list))\n",
    "##Create the analysis object\n",
    "abscal_analysis = LAST_ABSCAL_Analysis(useHTM=False)"
   ]
  },
  {
   "cell_type": "code",
   "execution_count": null,
   "metadata": {},
   "outputs": [],
   "source": [
    "abscal_analysis.calibrate_list_of_catalogs(catfile_list_txt=catfile_list,resfilename='./Image_Test_OLD/Image_Test_AbsCal_testOLD_fitATM_PW_AOD')\n"
   ]
  },
  {
   "cell_type": "code",
   "execution_count": null,
   "metadata": {},
   "outputs": [],
   "source": [
    "resfile_diag ='./Figures_Paper/FullImage_diagnostic_fullmag_ATMFit_PW_AOD.pdf'\n",
    "abscal_analysis.plot_residuals_diagnostic_fullimage(resfile_diag,figtitle='Single exposure (20s)')"
   ]
  },
  {
   "cell_type": "code",
   "execution_count": null,
   "metadata": {},
   "outputs": [],
   "source": [
    "resfile_res2d ='./Figures_Paper/Residuals_2D_fullframe_fullmag__ATMFit_PW_AOD.pdf'\n",
    "abscal_analysis.plot_residuals_2D_image(resfilename=resfile_res2d)"
   ]
  },
  {
   "cell_type": "markdown",
   "metadata": {},
   "source": [
    "## Coadd image"
   ]
  },
  {
   "cell_type": "code",
   "execution_count": null,
   "metadata": {},
   "outputs": [],
   "source": [
    "catfile_list = glob.glob('./Image_Test_Coadd_OLD/*.fits')\n",
    "catfile_list.sort()\n",
    "print('Number of catalogs to be analyzed: ', len(catfile_list))\n",
    "\n",
    "##Create the analysis object\n",
    "abscal_analysis_coadd = LAST_ABSCAL_Analysis(useHTM=False)\n"
   ]
  },
  {
   "cell_type": "code",
   "execution_count": null,
   "metadata": {},
   "outputs": [],
   "source": [
    "#Calibrate the list of catalogs\n",
    "abscal_analysis_coadd.calibrate_list_of_catalogs(catfile_list_txt=catfile_list,resfilename='./Image_Test_Coadd_OLD/Image_Test_AbsCal_Coadd_fitATM_PW_AOD')\n",
    "#abscal_analysis.get_params_from_calibrated_results('./Image_Test/Image_Test_AbsCal_Coadd.csv')\n",
    "abscal_analysis_coadd.plot_transmissions()"
   ]
  },
  {
   "cell_type": "code",
   "execution_count": null,
   "metadata": {},
   "outputs": [],
   "source": [
    "resfile_diag ='./Figures_Paper/FullImage_diagnostic_fullmag_Coadd_fitATM.pdf'\n",
    "abscal_analysis_coadd.plot_residuals_diagnostic_fullimage(resfile_diag,figtitle='Coadd image (20$\\\\times$20s)')"
   ]
  },
  {
   "cell_type": "code",
   "execution_count": null,
   "metadata": {},
   "outputs": [],
   "source": [
    "resfile_res2d ='./Figures_Paper/Residuals_2D_fullframe_fullmag_Coadd_fitATM.pdf'\n",
    "abscal_analysis_coadd.plot_residuals_2D_image(resfilename=resfile_res2d)"
   ]
  }
 ],
 "metadata": {
  "kernelspec": {
   "display_name": "py3_Fermi",
   "language": "python",
   "name": "python3"
  },
  "language_info": {
   "codemirror_mode": {
    "name": "ipython",
    "version": 3
   },
   "file_extension": ".py",
   "mimetype": "text/x-python",
   "name": "python",
   "nbconvert_exporter": "python",
   "pygments_lexer": "ipython3",
   "version": "3.8.12"
  }
 },
 "nbformat": 4,
 "nbformat_minor": 2
}
